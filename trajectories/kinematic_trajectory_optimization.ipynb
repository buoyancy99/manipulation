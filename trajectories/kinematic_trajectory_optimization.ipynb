{
 "cell_type": "markdown",
 "cells": [
  {
   "cell_type": "markdown",
   "metadata": {
    "id": "EgiF12Hf1Dhs"
   },
   "source": [
    "This notebook provides examples to go along with the [textbook](http://manipulation.csail.mit.edu/trajectories.html).  I recommend having both windows open, side-by-side!"
   ]
  },
  {
   "cell_type": "code",
   "execution_count": null,
   "metadata": {
    "id": "eeMrMI0-1Dhu"
   },
   "outputs": [],
   "source": [
    "import numpy as np\n",
    "from pydrake.all import (AddMultibodyPlantSceneGraph, DiagramBuilder,\n",
    "                         KinematicTrajectoryOptimization, MeshcatVisualizer,\n",
    "                         MeshcatVisualizerParams, MinimumDistanceConstraint,\n",
    "                         Parser, PositionConstraint, RigidTransform, Solve,\n",
    "                         Sphere, StartMeshcat)\n",
    "\n",
    "from manipulation import running_as_notebook\n",
    "from manipulation.meshcat_utils import PublishPositionTrajectory\n",
    "from manipulation.scenarios import AddPlanarIiwa, AddShape, AddWsg\n",
    "from manipulation.utils import FindResource\n"
   ]
  },
  {
   "cell_type": "code",
   "execution_count": null,
   "metadata": {},
   "outputs": [],
   "source": [
    "# Start the visualizer.\n",
    "meshcat = StartMeshcat()"
   ]
  },
  {
   "cell_type": "markdown",
   "metadata": {},
   "source": [
    "# Kinematic trajectory optimizaton"
   ]
  },
  {
   "cell_type": "code",
   "execution_count": null,
   "metadata": {},
   "outputs": [],
   "source": [
    "def trajopt_shelves_demo():\n",
    "    builder = DiagramBuilder()\n",
    "\n",
    "    plant, scene_graph = AddMultibodyPlantSceneGraph(builder, time_step=0.001)\n",
    "    iiwa = AddPlanarIiwa(plant)\n",
    "    wsg = AddWsg(plant, iiwa, roll=0.0, welded=True)\n",
    "    start = AddShape(plant, Sphere(0.02), \"start\")\n",
    "    X_WStart = RigidTransform([0.8, 0, 0.65])\n",
    "    plant.WeldFrames(plant.world_frame(), plant.GetFrameByName(\"start\"), X_WStart)\n",
    "\n",
    "    goal = AddShape(plant, Sphere(0.02), \"goal\")\n",
    "    X_WGoal = RigidTransform([0.8, 0, 0.4])\n",
    "    plant.WeldFrames(plant.world_frame(), plant.GetFrameByName(\"goal\"), X_WGoal)\n",
    "\n",
    "    parser = Parser(plant)\n",
    "    bin = parser.AddModelFromFile(FindResource(\"models/shelves.sdf\"))\n",
    "    plant.WeldFrames(plant.world_frame(),\n",
    "                     plant.GetFrameByName(\"shelves_body\", bin),\n",
    "                     RigidTransform([0.9, 0, 0.4]))\n",
    "\n",
    "    plant.Finalize()\n",
    "\n",
    "    visualizer = MeshcatVisualizer.AddToBuilder(\n",
    "        builder, scene_graph, meshcat,\n",
    "        MeshcatVisualizerParams(delete_prefix_initialization_event=False))\n",
    "\n",
    "    diagram = builder.Build()\n",
    "    context = diagram.CreateDefaultContext()\n",
    "    plant_context = plant.GetMyContextFromRoot(context)\n",
    "\n",
    "    q0 = plant.GetPositions(plant_context)\n",
    "    gripper_frame = plant.GetFrameByName(\"body\", wsg)\n",
    "    start_frame = plant.GetFrameByName(\"start\", start)\n",
    "    goal_frame = plant.GetFrameByName(\"goal\", goal)\n",
    "\n",
    "    trajopt = KinematicTrajectoryOptimization(plant.num_positions(), 10)\n",
    "    trajopt.AddDurationCost(1.0)\n",
    "    trajopt.AddPositionBounds(plant.GetPositionLowerLimits(),\n",
    "                              plant.GetPositionUpperLimits())\n",
    "    trajopt.AddVelocityBounds(plant.GetVelocityLowerLimits(),\n",
    "                              plant.GetVelocityUpperLimits())\n",
    "    trajopt.AddNominalPositionCost(q0)\n",
    "\n",
    "    # TODO(russt): Remove this once the solution is otherwise constrained\n",
    "    trajopt.AddDurationBounds(.1, 20)\n",
    "    trajopt.AddEqualTimeIntervalConstraints()\n",
    "\n",
    "    # start constraint\n",
    "    start_constraint = PositionConstraint(plant, start_frame, [0, 0, 0],\n",
    "                                          [0, 0, 0], gripper_frame, [0, 0.1, 0],\n",
    "                                          plant_context)\n",
    "    trajopt.AddPathConstraint(start_constraint, 0)\n",
    "\n",
    "    # goal constraint\n",
    "    goal_constraint = PositionConstraint(plant, goal_frame, [0, 0, 0],\n",
    "                                         [0, 0, 0], gripper_frame, [0, 0.1, 0],\n",
    "                                         plant_context)\n",
    "    trajopt.AddPathConstraint(goal_constraint, 1)\n",
    "\n",
    "    # start and end with zero velocity\n",
    "    trajopt.AddFixedPathVelocityConstraint(np.zeros((3,1)), 0)\n",
    "    trajopt.AddFixedPathVelocityConstraint(np.zeros((3,1)), 1)\n",
    "\n",
    "    # collision constraints\n",
    "    collision_constraint = MinimumDistanceConstraint(plant, 0.001,\n",
    "                                                     plant_context, None, 0.01)\n",
    "    evaluate_at_s = np.linspace(0, 1, 25)\n",
    "    for s in evaluate_at_s:\n",
    "        trajopt.AddPathConstraint(collision_constraint, s)\n",
    "\n",
    "    result = Solve(trajopt.prog())\n",
    "    if not result.is_success():\n",
    "        print(\"Trajectory optimization failed\")\n",
    "        print(result.get_solver_id().name())\n",
    "\n",
    "    PublishPositionTrajectory(trajopt.ReconstructPath(result), context, plant,\n",
    "                              visualizer)\n",
    "\n",
    "trajopt_shelves_demo()\n"
   ]
  },
  {
   "cell_type": "code",
   "execution_count": null,
   "metadata": {},
   "outputs": [],
   "source": []
  }
 ],
 "metadata": {
  "colab": {
   "collapsed_sections": [],
   "name": "Robotic Manipulation - Motion Planning.ipynb",
   "provenance": []
  },
  "kernelspec": {
   "display_name": "Python 3.8.10 64-bit",
   "language": "python",
   "name": "python3"
  },
  "language_info": {
   "codemirror_mode": {
    "name": "ipython",
    "version": 3
   },
   "file_extension": ".py",
   "mimetype": "text/x-python",
   "name": "python",
   "nbconvert_exporter": "python",
   "pygments_lexer": "ipython3",
   "version": "3.8.10"
  },
  "vscode": {
   "interpreter": {
    "hash": "e7370f93d1d0cde622a1f8e1c04877d8463912d04d973331ad4851f04de6915a"
   }
  }
 },
 "nbformat": 4,
 "nbformat_minor": 1
}
